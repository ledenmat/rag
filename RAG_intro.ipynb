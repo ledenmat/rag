{
 "cells": [
  {
   "cell_type": "markdown",
   "metadata": {},
   "source": [
    "# Introduction to Retrieval-Augmented Generation (RAG) Workflows\n",
    "\n",
    "In this notebook, we will explore common workflows for Retrieval-Augmented Generation (RAG). RAG is a powerful technique that combines the strengths of information retrieval and natural language generation to produce more accurate and contextually relevant responses when compared to classic LLM generation. This approach is particularly useful in scenarios where the model needs to generate responses based on a large corpus of documents or knowledge base.\n",
    "\n",
    "## Objectives\n",
    "- Understand the basic concepts of Retrieval-Augmented Generation.\n",
    "- Learn how to set up a retrieval system to fetch relevant documents.\n",
    "- Integrate the retrieval system with a generation model to produce augmented responses.\n",
    "- Explore different use cases and applications of RAG.\n",
    "\n",
    "## Prerequisites\n",
    "- Very basic understanding of natural language processing (NLP) and machine learning.\n",
    "- Familiarity with Python programming.\n",
    "\n",
    "## Notebook Overview\n",
    "1. **Data Preparation**: Load and preprocess the corpus of documents.\n",
    "2. **Data Transformation**: Explore tokenization and vector embeddings.\n",
    "3. **Simple Retrieval System Setup**: Implement a simple vector-based retrieval system to fetch relevant documents based on a query.\n",
    "4. **Generative Model Integration**: Combine the simple retrieval system with a generation model to produce responses.\n",
    "5. **Advanced Retrieval System Setup**: Implement a more advanced retrieval system, using HNSW and BM25.\n",
    "6. **Evaluation**: Assess the performance of the RAG system using appropriate metrics.\n",
    "\n",
    "Let's get started by setting up our environment and loading the necessary libraries."
   ]
  },
  {
   "cell_type": "code",
   "execution_count": 8,
   "metadata": {},
   "outputs": [
    {
     "name": "stdout",
     "output_type": "stream",
     "text": [
      "Requirement already satisfied: requests in ./.venv/lib/python3.12/site-packages (2.32.3)\n",
      "Requirement already satisfied: charset-normalizer<4,>=2 in ./.venv/lib/python3.12/site-packages (from requests) (3.4.0)\n",
      "Requirement already satisfied: idna<4,>=2.5 in ./.venv/lib/python3.12/site-packages (from requests) (3.10)\n",
      "Requirement already satisfied: urllib3<3,>=1.21.1 in ./.venv/lib/python3.12/site-packages (from requests) (2.2.3)\n",
      "Requirement already satisfied: certifi>=2017.4.17 in ./.venv/lib/python3.12/site-packages (from requests) (2024.8.30)\n",
      "Note: you may need to restart the kernel to use updated packages.\n",
      "Requirement already satisfied: tqdm in ./.venv/lib/python3.12/site-packages (4.67.0)\n",
      "Note: you may need to restart the kernel to use updated packages.\n",
      "Requirement already satisfied: hnswlib in ./.venv/lib/python3.12/site-packages (0.8.0)\n",
      "Requirement already satisfied: numpy in ./.venv/lib/python3.12/site-packages (from hnswlib) (1.26.4)\n",
      "Note: you may need to restart the kernel to use updated packages.\n",
      "Requirement already satisfied: rank_bm25 in ./.venv/lib/python3.12/site-packages (0.2.2)\n",
      "Requirement already satisfied: numpy in ./.venv/lib/python3.12/site-packages (from rank_bm25) (1.26.4)\n",
      "Note: you may need to restart the kernel to use updated packages.\n",
      "Requirement already satisfied: gensim in ./.venv/lib/python3.12/site-packages (4.3.3)\n",
      "Requirement already satisfied: numpy<2.0,>=1.18.5 in ./.venv/lib/python3.12/site-packages (from gensim) (1.26.4)\n",
      "Requirement already satisfied: scipy<1.14.0,>=1.7.0 in ./.venv/lib/python3.12/site-packages (from gensim) (1.13.1)\n",
      "Requirement already satisfied: smart-open>=1.8.1 in ./.venv/lib/python3.12/site-packages (from gensim) (7.0.5)\n",
      "Requirement already satisfied: wrapt in ./.venv/lib/python3.12/site-packages (from smart-open>=1.8.1->gensim) (1.16.0)\n",
      "Note: you may need to restart the kernel to use updated packages.\n",
      "Requirement already satisfied: datasets in ./.venv/lib/python3.12/site-packages (3.1.0)\n",
      "Requirement already satisfied: filelock in ./.venv/lib/python3.12/site-packages (from datasets) (3.16.1)\n",
      "Requirement already satisfied: numpy>=1.17 in ./.venv/lib/python3.12/site-packages (from datasets) (1.26.4)\n",
      "Requirement already satisfied: pyarrow>=15.0.0 in ./.venv/lib/python3.12/site-packages (from datasets) (18.0.0)\n",
      "Requirement already satisfied: dill<0.3.9,>=0.3.0 in ./.venv/lib/python3.12/site-packages (from datasets) (0.3.8)\n",
      "Requirement already satisfied: pandas in ./.venv/lib/python3.12/site-packages (from datasets) (2.2.3)\n",
      "Requirement already satisfied: requests>=2.32.2 in ./.venv/lib/python3.12/site-packages (from datasets) (2.32.3)\n",
      "Requirement already satisfied: tqdm>=4.66.3 in ./.venv/lib/python3.12/site-packages (from datasets) (4.67.0)\n",
      "Requirement already satisfied: xxhash in ./.venv/lib/python3.12/site-packages (from datasets) (3.5.0)\n",
      "Requirement already satisfied: multiprocess<0.70.17 in ./.venv/lib/python3.12/site-packages (from datasets) (0.70.16)\n",
      "Requirement already satisfied: fsspec<=2024.9.0,>=2023.1.0 in ./.venv/lib/python3.12/site-packages (from fsspec[http]<=2024.9.0,>=2023.1.0->datasets) (2024.9.0)\n",
      "Requirement already satisfied: aiohttp in ./.venv/lib/python3.12/site-packages (from datasets) (3.10.10)\n",
      "Requirement already satisfied: huggingface-hub>=0.23.0 in ./.venv/lib/python3.12/site-packages (from datasets) (0.26.2)\n",
      "Requirement already satisfied: packaging in ./.venv/lib/python3.12/site-packages (from datasets) (24.1)\n",
      "Requirement already satisfied: pyyaml>=5.1 in ./.venv/lib/python3.12/site-packages (from datasets) (6.0.2)\n",
      "Requirement already satisfied: aiohappyeyeballs>=2.3.0 in ./.venv/lib/python3.12/site-packages (from aiohttp->datasets) (2.4.3)\n",
      "Requirement already satisfied: aiosignal>=1.1.2 in ./.venv/lib/python3.12/site-packages (from aiohttp->datasets) (1.3.1)\n",
      "Requirement already satisfied: attrs>=17.3.0 in ./.venv/lib/python3.12/site-packages (from aiohttp->datasets) (24.2.0)\n",
      "Requirement already satisfied: frozenlist>=1.1.1 in ./.venv/lib/python3.12/site-packages (from aiohttp->datasets) (1.5.0)\n",
      "Requirement already satisfied: multidict<7.0,>=4.5 in ./.venv/lib/python3.12/site-packages (from aiohttp->datasets) (6.1.0)\n",
      "Requirement already satisfied: yarl<2.0,>=1.12.0 in ./.venv/lib/python3.12/site-packages (from aiohttp->datasets) (1.17.1)\n",
      "Requirement already satisfied: typing-extensions>=3.7.4.3 in ./.venv/lib/python3.12/site-packages (from huggingface-hub>=0.23.0->datasets) (4.12.2)\n",
      "Requirement already satisfied: charset-normalizer<4,>=2 in ./.venv/lib/python3.12/site-packages (from requests>=2.32.2->datasets) (3.4.0)\n",
      "Requirement already satisfied: idna<4,>=2.5 in ./.venv/lib/python3.12/site-packages (from requests>=2.32.2->datasets) (3.10)\n",
      "Requirement already satisfied: urllib3<3,>=1.21.1 in ./.venv/lib/python3.12/site-packages (from requests>=2.32.2->datasets) (2.2.3)\n",
      "Requirement already satisfied: certifi>=2017.4.17 in ./.venv/lib/python3.12/site-packages (from requests>=2.32.2->datasets) (2024.8.30)\n",
      "Requirement already satisfied: python-dateutil>=2.8.2 in ./.venv/lib/python3.12/site-packages (from pandas->datasets) (2.9.0.post0)\n",
      "Requirement already satisfied: pytz>=2020.1 in ./.venv/lib/python3.12/site-packages (from pandas->datasets) (2024.2)\n",
      "Requirement already satisfied: tzdata>=2022.7 in ./.venv/lib/python3.12/site-packages (from pandas->datasets) (2024.2)\n",
      "Requirement already satisfied: six>=1.5 in ./.venv/lib/python3.12/site-packages (from python-dateutil>=2.8.2->pandas->datasets) (1.16.0)\n",
      "Requirement already satisfied: propcache>=0.2.0 in ./.venv/lib/python3.12/site-packages (from yarl<2.0,>=1.12.0->aiohttp->datasets) (0.2.0)\n",
      "Note: you may need to restart the kernel to use updated packages.\n",
      "Looking in indexes: https://pypi.org/simple, https://abetlen.github.io/llama-cpp-python/whl/cu125/\n",
      "Requirement already satisfied: llama-cpp-python in ./.venv/lib/python3.12/site-packages (0.3.1)\n",
      "Requirement already satisfied: typing-extensions>=4.5.0 in ./.venv/lib/python3.12/site-packages (from llama-cpp-python) (4.12.2)\n",
      "Requirement already satisfied: numpy>=1.20.0 in ./.venv/lib/python3.12/site-packages (from llama-cpp-python) (1.26.4)\n",
      "Requirement already satisfied: diskcache>=5.6.1 in ./.venv/lib/python3.12/site-packages (from llama-cpp-python) (5.6.3)\n",
      "Requirement already satisfied: jinja2>=2.11.3 in ./.venv/lib/python3.12/site-packages (from llama-cpp-python) (3.1.4)\n",
      "Requirement already satisfied: MarkupSafe>=2.0 in ./.venv/lib/python3.12/site-packages (from jinja2>=2.11.3->llama-cpp-python) (3.0.2)\n",
      "Note: you may need to restart the kernel to use updated packages.\n"
     ]
    }
   ],
   "source": [
    "%pip install requests\n",
    "%pip install tqdm\n",
    "%pip install hnswlib\n",
    "%pip install rank_bm25\n",
    "%pip install gensim\n",
    "%pip install datasets\n",
    "%pip install llama-cpp-python --extra-index-url https://abetlen.github.io/llama-cpp-python/whl/cu125/"
   ]
  },
  {
   "cell_type": "markdown",
   "metadata": {
    "vscode": {
     "languageId": "markdown"
    }
   },
   "source": [
    "## Data Preparation\n",
    "\n",
    "In this section, we will prepare some simple example data, and also load the corpus of documents that will be used for retrieval."
   ]
  },
  {
   "cell_type": "markdown",
   "metadata": {},
   "source": [
    "### Step 1: Prepare Simple Sentence Data"
   ]
  },
  {
   "cell_type": "code",
   "execution_count": 9,
   "metadata": {},
   "outputs": [],
   "source": [
    "# Sample text corpus: list of sentences\n",
    "sentences = [\n",
    "    \"The cat sat on the mat, enjoying the warm sun.\",\n",
    "    \"The dog sat on the log, watching the world go by.\",\n",
    "    \"Cats and dogs are both popular pets, each with unique characteristics.\",\n",
    "    \"I love my pets because they provide companionship and joy.\",\n",
    "    \"Pets bring joy to our lives and teach us responsibility.\",\n",
    "    \"Training pets can be a rewarding experience for both the owner and the animal.\",\n",
    "    \"Cats are often independent, while dogs typically seek companionship.\",\n",
    "    \"Many families consider pets as part of their family unit.\",\n",
    "    \"Adopting a pet can change your life and bring immense happiness.\",\n",
    "    \"Understanding pet behavior is key to building a strong bond with them.\",\n",
    "]"
   ]
  },
  {
   "cell_type": "markdown",
   "metadata": {},
   "source": [
    "\n",
    "\n",
    "### Step 2: Load Dataset\n",
    "\n",
    "We will use the `datasets` library to load a sample dataset. For this example, we will use the \"Ankush-Chandler/cricket-wiki\" dataset, which contains wikipedia articles related to the sport of Cricket.\n"
   ]
  },
  {
   "cell_type": "code",
   "execution_count": 10,
   "metadata": {},
   "outputs": [],
   "source": [
    "from datasets import load_dataset\n",
    "\n",
    "# Load the dataset\n",
    "dataset = load_dataset(\"Ankush-Chander/cricket-wiki\")"
   ]
  },
  {
   "cell_type": "markdown",
   "metadata": {},
   "source": [
    "\n",
    "With the data prepared, we are now ready to experiment with tokenization and embedding generation!"
   ]
  },
  {
   "cell_type": "markdown",
   "metadata": {},
   "source": [
    "## Data Transformation"
   ]
  },
  {
   "cell_type": "markdown",
   "metadata": {},
   "source": [
    "### Word2Vec Tokenization and Embedding Generation using Gensim\n",
    "\n",
    "In this section, we use the Gensim library to train a Word2Vec model on a sample corpus of sentences. The steps involved are:\n",
    "\n",
    "1. **Tokenization**: Each sentence in the corpus is converted to lowercase and split into individual words.\n",
    "2. **Training the Word2Vec Model**: The tokenized sentences are used to train a Word2Vec model. The model parameters include:\n",
    "   - `vector_size`: The dimensionality of the word vectors.\n",
    "   - `window`: The maximum distance between the current and predicted word within a sentence.\n",
    "   - `min_count`: Ignores all words with a total frequency lower than this.\n",
    "   - `sg`: Training algorithm, 0 for CBOW (Continuous Bag of Words) and 1 for Skip-gram.\n",
    "3. **Retrieving Embeddings**: After training, we can retrieve the vector embeddings for specific words using the trained model.\n",
    "\n",
    "This process transforms the textual data into numerical vectors that can be used for various downstream tasks such as similarity calculations and clustering."
   ]
  },
  {
   "cell_type": "code",
   "execution_count": 11,
   "metadata": {},
   "outputs": [
    {
     "name": "stdout",
     "output_type": "stream",
     "text": [
      "Embedding for 'cat': [ 0.00195631  0.06170145 -0.1361549  -0.02765821  0.153407  ]\n",
      "Embedding for 'dog': [-0.13408305 -0.14154093 -0.0498537   0.10293507 -0.07326301]\n",
      "Embedding for 'pets': [ 0.14758061 -0.03021737 -0.09021993  0.13067764 -0.09709436]\n",
      "Embedding for 'love': [-0.00807143 -0.16731687 -0.11181911  0.14187092  0.06698985]\n"
     ]
    }
   ],
   "source": [
    "from gensim.models import Word2Vec\n",
    "\n",
    "# Tokenization\n",
    "tokenized_sentences = [sentence.lower().split() for sentence in sentences]\n",
    "\n",
    "# Training the Word2Vec model\n",
    "model = Word2Vec(\n",
    "    sentences=tokenized_sentences, vector_size=5, window=5, min_count=1, sg=0\n",
    ")\n",
    "\n",
    "\n",
    "# Getting token embeddings\n",
    "def get_embedding(word):\n",
    "    try:\n",
    "        return model.wv[word]\n",
    "    except KeyError:\n",
    "        print(f\"{word} not in vocabulary\")\n",
    "        return None\n",
    "\n",
    "\n",
    "# Example of retrieving embeddings for specific words\n",
    "words_to_embed = [\"cat\", \"dog\", \"pets\", \"love\"]\n",
    "\n",
    "for word in words_to_embed:\n",
    "    embedding = get_embedding(word)\n",
    "    if embedding is not None:\n",
    "        print(f\"Embedding for '{word}': {embedding}\")"
   ]
  },
  {
   "cell_type": "markdown",
   "metadata": {},
   "source": [
    "### TODO: Byte Pair Encoding (BPE) Example with GPT-2 Tokenization Scheme\n"
   ]
  },
  {
   "cell_type": "markdown",
   "metadata": {},
   "source": [
    "### TODO: BERT Embedding Finetuning"
   ]
  },
  {
   "cell_type": "markdown",
   "metadata": {},
   "source": [
    "### Nomic Model for Embedding Generation\n",
    "\n",
    "In this section, we use the Nomic model to generate embeddings for our simple sentence data. The Nomic model is designed to produce high-quality vector representations of text, which we will be using to perform similarity search. "
   ]
  },
  {
   "cell_type": "code",
   "execution_count": 12,
   "metadata": {},
   "outputs": [
    {
     "name": "stderr",
     "output_type": "stream",
     "text": [
      "100%|██████████| 10/10 [00:01<00:00,  9.03it/s]\n"
     ]
    }
   ],
   "source": [
    "import requests\n",
    "from tqdm import tqdm\n",
    "\n",
    "# Define the Ollama API endpoint and your model\n",
    "EMBEDDING_API_URL = \"http://localhost:11434/api/embeddings\"\n",
    "EMBEDDING_MODEL_NAME = \"nomic-embed-text\"\n",
    "\n",
    "\n",
    "def generate_embedding(prompt):\n",
    "    payload = {\n",
    "        \"model\": EMBEDDING_MODEL_NAME,\n",
    "        \"prompt\": prompt,\n",
    "    }\n",
    "\n",
    "    response = requests.post(EMBEDDING_API_URL, json=payload)\n",
    "\n",
    "    if response.status_code == 200:\n",
    "        return response.json().get(\"embedding\", \"\")\n",
    "    else:\n",
    "        print(f\"Error: {response.status_code} - {response.text}\")\n",
    "        return None\n",
    "\n",
    "\n",
    "nomic_embeddings = []\n",
    "for sentence in tqdm(sentences):\n",
    "    sentence_embedding = generate_embedding(sentence)\n",
    "    nomic_embeddings.append(sentence_embedding)"
   ]
  },
  {
   "cell_type": "markdown",
   "metadata": {},
   "source": [
    "With our sentence embeddings now generated, we are ready to start retrieving!"
   ]
  },
  {
   "cell_type": "markdown",
   "metadata": {},
   "source": [
    "## Simple Retrieval System Setup\n",
    "\n",
    "In this section, we will implement a simple retrieval system to fetch relevant documents based on a query. The retrieval system will use cosine similarity to measure the similarity between the query and the documents.\n"
   ]
  },
  {
   "cell_type": "markdown",
   "metadata": {},
   "source": [
    "\n",
    "### Cosine Similarity \n",
    "\n",
    "This function will compute the cosine similarity between two vectors. Cosine similarity is a measure of similarity between two non-zero vectors of an inner product space that measures the cosine of the angle between them. In our context, it will allow us to determine how similar the embeddings of two sentences are. This operation is O(N), where N is the embedding dimension of the vectors.\n"
   ]
  },
  {
   "cell_type": "code",
   "execution_count": 13,
   "metadata": {},
   "outputs": [],
   "source": [
    "import numpy as np\n",
    "\n",
    "\n",
    "def cosine_similarity(vec_a, vec_b):\n",
    "    # Compute the dot product\n",
    "    dot_product = np.dot(vec_a, vec_b)\n",
    "\n",
    "    # Compute the magnitudes (norms) of the vectors\n",
    "    norm_a = np.linalg.norm(vec_a)\n",
    "    norm_b = np.linalg.norm(vec_b)\n",
    "\n",
    "    # Calculate cosine similarity\n",
    "    if norm_a == 0 or norm_b == 0:\n",
    "        return 0.0  # Handle division by zero if any vector is zero\n",
    "    return dot_product / (norm_a * norm_b)"
   ]
  },
  {
   "cell_type": "markdown",
   "metadata": {},
   "source": [
    "\n",
    "### Simple Vector Search:\n",
    "This function will iterate over the items in `nomic_embeddings` and return the most similar item to the query based on cosine similarity. This operation is of course O(S*N), where S is the number of sentences and N is the embedding dimension.\n"
   ]
  },
  {
   "cell_type": "code",
   "execution_count": 14,
   "metadata": {},
   "outputs": [],
   "source": [
    "def vector_db_search(query_embedding):\n",
    "    # Initialize variables to track the most similar text and its score\n",
    "    most_similar_text = \"\"\n",
    "    most_similar_score = -1\n",
    "\n",
    "    # Loop through the list of sentence embeddings to find the most similar one\n",
    "    for index, sentence_embedding in enumerate(nomic_embeddings):\n",
    "        # Compute cosine similarity between the question embedding and the current sentence embedding\n",
    "        computed_cosine_similarity = cosine_similarity(\n",
    "            query_embedding, sentence_embedding\n",
    "        )\n",
    "\n",
    "        # Check if the computed similarity is higher than the previous best score\n",
    "        if computed_cosine_similarity > most_similar_score:\n",
    "            most_similar_score = computed_cosine_similarity\n",
    "            most_similar_text = sentences[index]  # Update the most similar text\n",
    "\n",
    "    return (most_similar_text, most_similar_score)"
   ]
  },
  {
   "cell_type": "markdown",
   "metadata": {},
   "source": [
    "Now that we have a very simple vector database, let's start RAG'ing!"
   ]
  },
  {
   "cell_type": "markdown",
   "metadata": {},
   "source": [
    "## Generative Model Integration\n",
    "\n",
    "In this section, we will integrate the retrieval system with a generative model to produce augmented responses. The goal is to combine the strengths of information retrieval and natural language generation to generate more accurate and contextually relevant responses. The steps involved are:\n",
    "\n",
    "1. **Query Embedding Generation**: Generate an embedding for the user's query using the Nomic model.\n",
    "2. **Retrieve Relevant Document**: Use the simple vector search function to find the most similar document to the query from the vector database.\n",
    "3. **Prepare Prompt for Generative Model**: Create a prompt that includes the user's query and the retrieved document to provide context for the generative model.\n",
    "4. **Generate Response**: Use the generative model to produce a response based on the prepared prompt.\n",
    "\n",
    "This process ensures that the generative model has access to relevant information from the document corpus, leading to more informed and accurate responses."
   ]
  },
  {
   "cell_type": "code",
   "execution_count": 15,
   "metadata": {},
   "outputs": [],
   "source": [
    "import requests\n",
    "\n",
    "# Define the Ollama API endpoint and your model\n",
    "MODEL_API_URL = \"http://localhost:11434/api/chat\"\n",
    "MODEL_NAME = \"llama3.1:8b\"\n",
    "\n",
    "\n",
    "def generate_text(prompt):\n",
    "    payload = {\n",
    "        \"model\": MODEL_NAME,\n",
    "        \"messages\": [{\"role\": \"user\", \"content\": prompt}],\n",
    "        \"max_completion_tokens\": 256,  # Adjust max tokens for desired length\n",
    "        \"temperature\": 0.7,  # Adjust temperature for randomness\n",
    "        \"seed\": 12,\n",
    "        \"stream\": False,\n",
    "    }\n",
    "\n",
    "    response = requests.post(MODEL_API_URL, json=payload)\n",
    "\n",
    "    if response.status_code == 200:\n",
    "        return response.json().get(\"message\").get(\"content\")\n",
    "    else:\n",
    "        print(f\"Error: {response.status_code} - {response.text}\")\n",
    "        return None"
   ]
  },
  {
   "cell_type": "code",
   "execution_count": 24,
   "metadata": {},
   "outputs": [
    {
     "name": "stdout",
     "output_type": "stream",
     "text": [
      "Our query: 'Where did the cat sit?'\n",
      "Most similar sentence in our vector DB: 'The cat sat on the mat, enjoying the warm sun.'\n",
      "Cosine Similarity Score: 0.7404\n",
      "\n",
      "### RAG GENERATION ###\n",
      "The cat sat on the mat.\n",
      "\n",
      "### REGULAR GENERATION ###\n",
      "The question doesn't provide enough context or information about where the cat sat. Could you provide more details or clarify what you're asking? I'd be happy to try and help!\n"
     ]
    }
   ],
   "source": [
    "# User's question\n",
    "our_question = \"Where did the cat sit?\"\n",
    "\n",
    "\n",
    "def simple_rag_process(question):\n",
    "    # Generate an embedding for the user's question\n",
    "    the_embedding_of_our_question = generate_embedding(question)\n",
    "\n",
    "    # Query the vector DB\n",
    "    most_similar_text, score = vector_db_search(the_embedding_of_our_question)\n",
    "\n",
    "    # Print the user's question and the most similar sentence in a formatted way\n",
    "    print(\n",
    "        f\"Our query: '{question}'\\n\"\n",
    "        f\"Most similar sentence in our vector DB: '{most_similar_text}'\\n\"\n",
    "        f\"Cosine Similarity Score: {score:.4f}\\n\"\n",
    "    )\n",
    "\n",
    "    # Prepare the prompt for the RAG model using the most similar text\n",
    "    rag_prompt_template = f\"\"\"\n",
    "    You are an assistant for question answering tasks. Use the information between the <context> </context> blocks to help answer the question. If you don't know, say 'I dunno'.\n",
    "\n",
    "    Here is the user's question: {question}\n",
    "\n",
    "    <context> {most_similar_text} </context>\n",
    "    \"\"\"\n",
    "\n",
    "    # Print the prompt for RAG generation\n",
    "    print(\"### RAG GENERATION ###\")\n",
    "    print(generate_text(rag_prompt_template))\n",
    "\n",
    "    # Print the result of regular text generation based on the original question\n",
    "    print(\"\\n### REGULAR GENERATION ###\")\n",
    "    print(generate_text(question))\n",
    "\n",
    "\n",
    "simple_rag_process(our_question)"
   ]
  },
  {
   "cell_type": "markdown",
   "metadata": {},
   "source": [
    "### But wait! There is a big issue here:"
   ]
  },
  {
   "cell_type": "code",
   "execution_count": 25,
   "metadata": {},
   "outputs": [
    {
     "name": "stdout",
     "output_type": "stream",
     "text": [
      "Our query: 'Now that I know that the cat sat on the mat. Where did the dog sit?'\n",
      "Most similar sentence in our vector DB: 'The cat sat on the mat, enjoying the warm sun.'\n",
      "Cosine Similarity Score: 0.7350\n",
      "\n",
      "### RAG GENERATION ###\n",
      "I dunno. There is no information about a dog or where it might have sat.\n",
      "\n",
      "### REGULAR GENERATION ###\n",
      "I think there might be some confusion here. The original statement was \"the cat sat on the mat\", but it didn't mention anything about a dog sitting anywhere. We can start fresh and create a new scenario if you'd like, or I can simply say that we don't have any information about where the dog sat! Would you like to explore further?\n"
     ]
    }
   ],
   "source": [
    "# User's question\n",
    "our_question = \"Now that I know that the cat sat on the mat. Where did the dog sit?\"\n",
    "\n",
    "simple_rag_process(our_question)"
   ]
  },
  {
   "cell_type": "markdown",
   "metadata": {},
   "source": [
    "To fix this, we can do a few different things. The first could be to return more results from the vector DB. This might allow us to retrieve the correct sentence, but will require us to pollute the model context window with potentially irrelevant information.\n",
    "\n",
    "Let's try Rewrite, Retrieve, Read"
   ]
  },
  {
   "cell_type": "markdown",
   "metadata": {},
   "source": [
    "### Rewrite Retrieve Read\n",
    "\n",
    "In this section, we will implement the Rewrite Retrieve Read (RRR) process, which can be a key component of the Retrieval-Augmented Generation (RAG) workflow. The RRR process involves three main steps:\n",
    "\n",
    "1. **Rewrite**: Refine the user's query to make it more specific and clear. This helps in retrieving more relevant documents.\n",
    "2. **Retrieve**: Use the refined query to search the vector database and retrieve the most relevant document.\n",
    "3. **Read**: Generate a response based on the retrieved document and the original query.\n",
    "\n",
    "This process ensures that the generative model has access to the most relevant information, leading to more accurate and contextually appropriate responses."
   ]
  },
  {
   "cell_type": "code",
   "execution_count": 28,
   "metadata": {},
   "outputs": [
    {
     "name": "stdout",
     "output_type": "stream",
     "text": [
      "Our original prompt: Where did the dog sit?\n",
      "\n",
      "Our modified prompt: What location did the dog sit in?\n",
      "\n",
      "Our query: 'What location did the dog sit in?'\n",
      "Most similar sentence in our vector DB: 'The dog sat on the log, watching the world go by.'\n",
      "Cosine Similarity Score: 0.7273\n",
      "\n",
      "### RAG GENERATION ###\n",
      "The dog sat on a log.\n",
      "\n",
      "### REGULAR GENERATION ###\n",
      "I don't think we've discussed a specific location related to a dog sitting. This conversation just started, and I'm happy to help if you'd like to ask a question or provide more context!\n"
     ]
    }
   ],
   "source": [
    "# Original query\n",
    "original_query = \"Now that I know that the cat sat on the mat. Where did the dog sit?\"\n",
    "print(\"Our original prompt: \" + original_query + \"\\n\")\n",
    "# Step 1: Rewrite the query\n",
    "refined_prompt = generate_text(\n",
    "    \"Rewrite the following question to make it more specific (if necessary) and remove any part of it that isn't related to the question it asks: <QUESTION>\"\n",
    "    + original_query\n",
    "    + \"</QUESTION> --- Only return the rewritten query\"\n",
    ")\n",
    "\n",
    "print(\"Our modified prompt: \" + refined_prompt + \"\\n\")\n",
    "\n",
    "simple_rag_process(refined_prompt)"
   ]
  },
  {
   "cell_type": "markdown",
   "metadata": {},
   "source": [
    "By using an LLM to summarize our user's question, we managed to get much better results. This type of RAG operation can be structured as a multi-agent system. We can designate our summarization as a \"Rewrite\" agent and our generation as an \"Expert\" agent. The \"Rewrite\" agent refines the user's query to make it more specific and clear, ensuring that the retrieval process fetches the most relevant documents. The \"Expert\" agent then uses these documents to generate accurate and contextually appropriate responses. This multi-agent approach enhances the overall performance and reliability of the RAG system, making it more effective in handling complex queries.\n",
    "\n",
    "Now that we have nice example of RAG on simple sentences, let's extend it to more complex documents, like the cricket dataset we introduced earlier. The cricket dataset is much larger, so we'll need to scale up our least efficient component, the vector DB, so that it keeps up with the demands of our dataset.\n",
    "\n",
    "Let's get into a more **Advanced Retrieval System**!"
   ]
  },
  {
   "cell_type": "markdown",
   "metadata": {},
   "source": [
    "## Advanced Retrieval System Setup\n",
    "\n",
    "In this section, we will implement a more advanced retrieval system to enhance the accuracy and efficiency of document retrieval. We will explore two advanced techniques: Hierarchical Navigable Small World (HNSW) graphs and BM25.\n",
    "\n",
    "1. **HNSW (Hierarchical Navigable Small World) Graphs**: HNSW is a highly efficient algorithm for approximate nearest neighbor search. It constructs a graph where nodes represent data points, and edges represent proximity based on a distance metric. This allows for fast and accurate retrieval of the most similar documents.\n",
    "\n",
    "2. **BM25 (Best Matching 25)**: BM25 is a ranking function used by search engines to estimate the relevance of documents to a given query. It is based on the probabilistic information retrieval model and considers factors such as term frequency, document length, and inverse document frequency.\n"
   ]
  },
  {
   "cell_type": "code",
   "execution_count": 19,
   "metadata": {},
   "outputs": [
    {
     "name": "stderr",
     "output_type": "stream",
     "text": [
      "100%|██████████| 100/100 [00:09<00:00, 10.24it/s]\n"
     ]
    }
   ],
   "source": [
    "# Generate embeddings for the cricket dataset\n",
    "sampled_dataset = dataset[\"train\"].shuffle(seed=42).select(range(100))\n",
    "cricket_embeddings = []\n",
    "for example in tqdm(sampled_dataset):\n",
    "    cricket_embedding = generate_embedding(example[\"text\"])\n",
    "    cricket_embeddings.append(cricket_embedding)"
   ]
  },
  {
   "cell_type": "markdown",
   "metadata": {},
   "source": [
    "\n",
    "### HNSW Graphs\n",
    "\n",
    "We will use the `hnswlib` library to implement HNSW for our retrieval system. The steps involved are:\n",
    "\n",
    "1. **Index Construction**: Build an HNSW index using the document embeddings.\n",
    "2. **Querying**: Use the HNSW index to find the nearest neighbors of the query embedding.\n"
   ]
  },
  {
   "cell_type": "code",
   "execution_count": 20,
   "metadata": {},
   "outputs": [
    {
     "name": "stdout",
     "output_type": "stream",
     "text": [
      "Dataset({\n",
      "    features: ['id', 'revid', 'url', 'title', 'text'],\n",
      "    num_rows: 100\n",
      "})\n",
      "School Field Ground is a sports ground owned by Cranbrook School located in the town of Cranbrook, Kent. It is known by the school as Big Side Playing Field. The field, which is in size, is used by the school for cricket, rugby union and hockey.\n",
      "Cricket history.\n",
      "The ground has been used as a cricket field since at least the mid 19th century, at which point it was in private hands. Kent County Cricket Club played two first-class cricket matches on a ground specifically prepared on the site, one in 1850 and the other in 1851, both against England XIs. Kent also played two first-class matches at nearby Swifts Park in 1862–63.\n",
      "The ground has been used by the school since the 1940s, including for matches against teams such as MCC. Both a South African Universities team and a South Africa Schools XI played on the ground in 1967 whilst apartheid was in operation. In July 1968 Free Foresters played a United States team on the ground.\n"
     ]
    }
   ],
   "source": [
    "import hnswlib\n",
    "import numpy as np\n",
    "\n",
    "# Initialize the HNSW index\n",
    "dim = 768  # Dimension of the embeddings\n",
    "num_elements = len(cricket_embeddings)\n",
    "hnsw_index = hnswlib.Index(space=\"cosine\", dim=dim)\n",
    "\n",
    "# Initialize the index\n",
    "hnsw_index.init_index(max_elements=num_elements, ef_construction=200, M=16)\n",
    "\n",
    "# Add items to the index\n",
    "hnsw_index.add_items(cricket_embeddings)\n",
    "\n",
    "\n",
    "def hnsw_search(query_embedding, hnsw_index, k=1):\n",
    "    labels, distances = hnsw_index.knn_query(query_embedding, k=k)\n",
    "    return labels[0], distances[0]\n",
    "\n",
    "\n",
    "query_embedding = generate_embedding(\"Tell me about the history of cricket.\")\n",
    "labels, distances = hnsw_search(query_embedding, hnsw_index)\n",
    "print(sampled_dataset)\n",
    "most_similar_text = sampled_dataset[int(labels[0])][\"text\"]\n",
    "print(most_similar_text)"
   ]
  },
  {
   "cell_type": "markdown",
   "metadata": {},
   "source": [
    "\n",
    "### BM25\n",
    "\n",
    "We will use the `rank_bm25` library to implement BM25 for our retrieval system. The steps involved are:\n",
    "\n",
    "1. **Index Construction**: Build a BM25 index using the tokenized documents.\n",
    "2. **Querying**: Use the BM25 index to rank documents based on their relevance to the query.\n"
   ]
  },
  {
   "cell_type": "code",
   "execution_count": 21,
   "metadata": {},
   "outputs": [
    {
     "name": "stdout",
     "output_type": "stream",
     "text": [
      "The opening ceremony of the fifth season of Indian Premier League (IPL) took place on the evening of 3 April 2012 in the YMCA College of Physical Education, Chennai. The ceremony was designed by Wizcraft Entertainment, and began at 19:30 IST, lasting almost two and half hours. The tickets for the ceremony were priced at and were available online at the official website of the IPL from 16 March 2012. Similar to the previous versions, the captains of the nine participating teams took the \"MCC Spirit of Cricket\" pledge. Various Bollywood actors, dancers, and musicians performed in the ceremony.\n",
      "Background.\n",
      "The event was planned to be held at M. A. Chidambaram Stadium, but was shifted to the YMCA College of Physical Education ground. The capacity of the YMCA college was lesser than that of the M. A. Chidambaram Stadium, and this caused disappointment. Tamil Nadu Cricket Association said that the decision was made because the opening match was to be played at the M. A. Chidambaram Stadium, and thus they cannot have opening ceremony in it due to risk of the cricket ground getting damaged by the performances. Sabbas Joseph, director of Wizcraft Entertainment, talking about the ceremony stated that, \"There will be good things, lots of entertainment and cricket. It's the first time that such a large-scale, separate concert is being organised for the IPL, so big things have been planned.\"\n",
      "Ceremony.\n",
      "The ceremony started at 19:30 IST, however the gates were opened at 17:00 IST. A huge cut out poster of Salman Khan was kept at the YMCA ground prior to the ceremony. The ceremony was hosted by Amitabh Bachchan who had undergone two abdominal surgeries in February 2012. Earlier he had conveyed a message via Twitter saying, \"April 3rd is the day for the opening. Preparing for it already. Getting back into the grind.\" Media reports suggested that Bachchan will be dancing, however Joseph said that this is unlikely to happen. He began the ceremony by reciting a poem, \"If I were to be born again\" by Prasoon Joshi. Later, the Colonial Cousins, along with South African band First Project and DJ Ravi Drums, performed in the ceremony. It was followed by Priyanka Chopra performing with cricketers like Harbhajan Singh on various songs from her films. Prabhu Deva also performed on songs from his films such as \"Wanted\" and \"Hum Se Hai Muqablah\".\n",
      "After that, few members of the Chennai Super Kings' squad arrived on the stage, and Chopra joined them. Later Kareena Kapoor danced to songs from her films \"Ra.One\" and \"Agent Vinod\". The performances of Chopra and Kapoor were choreographed by Shiamak Davar and his companions. After the dance performances, the captains of the nine teams took the \"MCC Spirit of Cricket\" pledge. Captain of the defending champions, M.S. Dhoni placed the trophy on the podium and it was followed by the chairman of IPL, Rajiv Shukla crediting the players, franchise owners, supporting staff and the spectators for the success of IPL. He then formally opened the 2012 IPL, saying, \"It gives me a great pleasure to flag off the fifth edition of the DLF Indian Premier League, an arena where quality international and domestic cricketers take part in intense contest of strategy and skill. IPL is a platform where talent meets opportunity.\"\n",
      "Salman Khan performed on songs from his films \"Ready\", \"Bodyguard\", \"Wanted\", \"Partner\" and \"Jab Pyaar Kiya To Darna Kiya\". American pop star Katy Perry closed the ceremony performing \"Firework\" and \"California Gurls\". The ceremony ended with fireworks.\n"
     ]
    }
   ],
   "source": [
    "from rank_bm25 import BM25Okapi\n",
    "\n",
    "# Tokenize the documents\n",
    "tokenized_corpus = [doc[\"text\"].split(\" \") for doc in sampled_dataset]\n",
    "\n",
    "# Initialize the BM25 index\n",
    "bm25 = BM25Okapi(tokenized_corpus)\n",
    "\n",
    "\n",
    "def bm25_search(query, bm25, k=1):\n",
    "    tokenized_query = query.split(\" \")\n",
    "    doc_scores = bm25.get_scores(tokenized_query)\n",
    "    top_n = np.argsort(doc_scores)[::-1][:k]\n",
    "    return top_n, doc_scores[top_n]\n",
    "\n",
    "\n",
    "query = \"19:30 IST\"\n",
    "top_n, scores = bm25_search(query, bm25)\n",
    "most_similar_text = sampled_dataset[int(top_n[0])][\"text\"]\n",
    "print(most_similar_text)"
   ]
  },
  {
   "cell_type": "markdown",
   "metadata": {},
   "source": [
    "Now let's create a more advanced RAG process:"
   ]
  },
  {
   "cell_type": "code",
   "execution_count": 22,
   "metadata": {},
   "outputs": [
    {
     "name": "stdout",
     "output_type": "stream",
     "text": [
      "Our query: 'When was the opening ceremony of the fifth season of the Indian Premier League?'\n",
      "Most similar paragraph in our vector DB: \n",
      " 'Mahesh Shrinivas Bhupathi (born 7 June 1974) is an Indian former doubles world No. 1 tennis player. ...'\n",
      "\n",
      "Vector Similarity Score: 0.3432\n",
      "Most similar paragraph in our BM25 Index: \n",
      "'The opening ceremony of the fifth season of Indian Premier League (IPL) took place on the evening of...'\n",
      "\n",
      "BM25 Score: 6.2884\n",
      "\n",
      "### RAG GENERATION (HNSW - Vector) ###\n",
      "Mahesh Bhupathi is a renowned Indian tennis player, sports entrepreneur, and sports management expert. Here are some key points from the provided text:\n",
      "\n",
      "**Tennis Career:**\n",
      "\n",
      "* Won 12 Grand Slam titles in mixed doubles (8 titles, 4 runner-ups)\n",
      "* Completed the mixed doubles Career Grand Slam by winning the 2006 Australian Open title\n",
      "* Partnered with Leander Paes and Rohan Bopanna for various tournaments\n",
      "* Played 55 matches for India in the Davis Cup (1995-2011), winning 35 and losing 20\n",
      "\n",
      "**Grand Slam Seedings:**\n",
      "\n",
      "* Won titles in boldface, advanced into finals in _italics_\n",
      "\n",
      "**Davis Cup and Asian Games:**\n",
      "\n",
      "* Won the doubles championship with Leander Paes at the 2006 Asian Games\n",
      "* Has a Davis Cup record of longest winning streak in doubles (23 straight wins)\n",
      "\n",
      "**Personal Life:**\n",
      "\n",
      "* Married model Shvetha Jaishankar in 2002, divorced in 2009\n",
      "* Married Miss Universe 2000 Lara Dutta in 2011; they have one daughter, Saira (born 2012)\n",
      "* Founded Globosport India private Limited in 2002 as a sports and entertainment agency\n",
      "\n",
      "**Sports Management:**\n",
      "\n",
      "* Involved in developing tennis facilities in India\n",
      "* Managed the careers of several Indian athletes, including Sania Mirza\n",
      "* Launched an authentic Indian sports brand, ZEVEN (2014)\n",
      "\n",
      "**International Premier Tennis League:**\n",
      "\n",
      "* Founded the International Premier Tennis League in 2013\n",
      "* Announced the inaugural season to commence in November 2014\n",
      "\n",
      "**Other Ventures:**\n",
      "\n",
      "* Co-founded Big Daddy Productions with Lara Dutta (2010)\n",
      "* Partnered with Leander Paes and Vishnu Vardhan for the London Olympics (2012)\n",
      "\n",
      "Overall, Mahesh Bhupathi has had a distinguished tennis career, achieved significant success in various tournaments, and ventured into sports management and entrepreneurship. https://en.wikipedia.org/wiki?curid=671836\n",
      "\n",
      "\n",
      "### RAG GENERATION (BM25 - Keyword) ###\n",
      "The opening ceremony of the fifth season of the Indian Premier League took place on 3 April 2012. https://en.wikipedia.org/wiki?curid=36817121\n",
      "\n",
      "\n",
      "\n",
      "### REGULAR GENERATION ###\n",
      "The Indian Premier League (IPL) is an annual tournament, not a seasonal one. It typically takes place over a period of about 2 months in the spring.\n",
      "\n",
      "However, if you're asking about the specific year you had in mind, I can try to help. The first season of the IPL was held in 2008 and the fifth season (IPL 2012) took place from April 4 to May 27, 2012.\n",
      "\n",
      "So, the opening ceremony of the fifth season of the Indian Premier League (IPL 2012) occurred on April 4, 2012.\n"
     ]
    }
   ],
   "source": [
    "# User's question\n",
    "our_question = (\n",
    "    \"When was the opening ceremony of the fifth season of the Indian Premier League?\"\n",
    ")\n",
    "\n",
    "\n",
    "def rag_process(question):\n",
    "    # Generate an embedding for the user's question\n",
    "    the_embedding_of_our_question = generate_embedding(question)\n",
    "\n",
    "    # Query the vector DB\n",
    "    labels, distances = hnsw_search(the_embedding_of_our_question, hnsw_index, k=1)\n",
    "    hnsw_context = sampled_dataset[int(labels[0])][\"text\"]\n",
    "\n",
    "    # Query the BM25 Index\n",
    "    top_n, scores = bm25_search(query, bm25, k=1)\n",
    "    bm25_context = sampled_dataset[int(top_n[0])][\"text\"]\n",
    "\n",
    "    # Print the user's question and the most similar sentence in a formatted way\n",
    "    print(\n",
    "        f\"Our query: '{question}'\\n\"\n",
    "        f\"Most similar paragraph in our vector DB: \\n '{sampled_dataset[int(labels[0])][\"text\"][0:100]}...'\\n\\n\"\n",
    "        f\"Vector Similarity Score: {distances[0]:.4f}\\n\"\n",
    "        f\"Most similar paragraph in our BM25 Index: \\n'{sampled_dataset[int(top_n[0])][\"text\"][0:100]}...'\\n\\n\"\n",
    "        f\"BM25 Score: {scores[0]:.4f}\\n\"\n",
    "    )\n",
    "\n",
    "    # Prepare the prompt for the RAG model using the most similar text\n",
    "    def rag_prompt_template(question, most_similar_text):\n",
    "        return f\"\"\"\n",
    "            You are an assistant for question answering tasks. Use the information between the <context> </context> blocks to help answer the question. If you don't know, say 'I dunno'.\n",
    "\n",
    "            Here is the user's question: {question}\n",
    "\n",
    "            <context> {most_similar_text} </context>\n",
    "            \"\"\"\n",
    "\n",
    "    # Print the prompt for RAG generation\n",
    "    print(\"### RAG GENERATION (HNSW - Vector) ###\")\n",
    "    hnsw_answer = generate_text(\n",
    "        rag_prompt_template(question, sampled_dataset[int(labels[0])][\"text\"])\n",
    "    )\n",
    "    print(hnsw_answer + \" \" + sampled_dataset[int(labels[0])][\"url\"] + \"\\n\\n\")\n",
    "\n",
    "    # Print the prompt for RAG generation\n",
    "    print(\"### RAG GENERATION (BM25 - Keyword) ###\")\n",
    "    bm25_answer = generate_text(\n",
    "        rag_prompt_template(question, sampled_dataset[int(top_n[0])][\"text\"])\n",
    "    )\n",
    "    print(bm25_answer + \" \" + sampled_dataset[int(top_n[0])][\"url\"] + \"\\n\\n\")\n",
    "\n",
    "    # Print the result of regular text generation based on the original question\n",
    "    print(\"\\n### REGULAR GENERATION ###\")\n",
    "    llm_answer = generate_text(question)\n",
    "    print(llm_answer)\n",
    "\n",
    "    return hnsw_context, hnsw_answer, bm25_context, bm25_answer, llm_answer\n",
    "\n",
    "\n",
    "hnsw_context, hnsw_answer, bm25_context, bm25_answer, llm_answer = rag_process(\n",
    "    our_question\n",
    ")"
   ]
  },
  {
   "cell_type": "code",
   "execution_count": 29,
   "metadata": {},
   "outputs": [
    {
     "name": "stdout",
     "output_type": "stream",
     "text": [
      "### RAG GENERATION (HNSW - Vector) ###\n",
      "The text does not mention Mahesh Bhupathi launching an authentic Indian sports brand called ZEVEN. The correct answer is:\n",
      "\n",
      "Mahesh Bhupathi launched an authentic Indian sports brand, Globosport India Private Limited, in 2002, which later managed the careers of several Indian athletes, including Sania Mirza.\n",
      "\n",
      "However, the text does mention that Mahesh Bhupathi has also been involved in developing and managing the careers of many Indian athletes, including Sania Mirza, through his company Globosport.\n",
      "### RAG GENERATION (BM25 - Keyword) ###\n",
      "[[No]]\n",
      "\n",
      "### REGULAR GENERATION ###\n",
      "[[No]]\n"
     ]
    }
   ],
   "source": [
    "def evaluate_output(question, document, answer):\n",
    "    prompt = f\"\"\"\n",
    "    Given the following question, document, and answer, you must analyze the provided answer and document before determining whether the answer is relevant for the provided question. In your evaluation, you should consider whether the answer addresses all aspects of the question and provides only correct information from the document for answering the question. Output your final verdict by strictly following this format: \"[[Yes]]\" if the answer is relevant for the given question and \"[[No]]\" if the answer is not relevant for the given question. Do not provide any additional explanation for your decision.\n",
    "    Question: {question}\n",
    "    Document: {document}\n",
    "    Answer: {answer}\n",
    "    \"\"\"\n",
    "    return generate_text(prompt)\n",
    "\n",
    "\n",
    "print(\"### RAG GENERATION (HNSW - Vector) ###\")\n",
    "print(evaluate_output(our_question, hnsw_context, hnsw_answer))\n",
    "print(\"### RAG GENERATION (BM25 - Keyword) ###\")\n",
    "print(evaluate_output(our_question, bm25_context, bm25_answer))\n",
    "print(\"\\n### REGULAR GENERATION ###\")\n",
    "print(evaluate_output(our_question, \"\", llm_answer))"
   ]
  },
  {
   "attachments": {
    "image.png": {
     "image/png": "[encoded data removed]"
    }
   },
   "cell_type": "markdown",
   "metadata": {},
   "source": [
    "![image.png](attachment:image.png)"
   ]
  }
 ],
 "metadata": {
  "kernelspec": {
   "display_name": ".venv",
   "language": "python",
   "name": "python3"
  },
  "language_info": {
   "codemirror_mode": {
    "name": "ipython",
    "version": 3
   },
   "file_extension": ".py",
   "mimetype": "text/x-python",
   "name": "python",
   "nbconvert_exporter": "python",
   "pygments_lexer": "ipython3",
   "version": "3.12.3"
  }
 },
 "nbformat": 4,
 "nbformat_minor": 2
}
